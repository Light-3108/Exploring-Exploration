{
  "nbformat": 4,
  "nbformat_minor": 0,
  "metadata": {
    "colab": {
      "provenance": []
    },
    "kernelspec": {
      "name": "python3",
      "display_name": "Python 3"
    },
    "language_info": {
      "name": "python"
    }
  },
  "cells": [
    {
      "cell_type": "code",
      "source": [
        "import torch\n",
        "import torch.nn as nn\n",
        "import torch.optim as optim\n",
        "import torch.nn.functional as F\n",
        "from torch.distributions import Categorical\n",
        "import numpy as np\n",
        "import random\n",
        "import matplotlib.pyplot as plt"
      ],
      "metadata": {
        "id": "JKjPh3vRSMtx"
      },
      "execution_count": 56,
      "outputs": []
    },
    {
      "cell_type": "code",
      "source": [
        "seed = 42\n",
        "random.seed(seed)\n",
        "np.random.seed(seed)\n",
        "torch.manual_seed(seed)"
      ],
      "metadata": {
        "colab": {
          "base_uri": "https://localhost:8080/"
        },
        "id": "Kk-X9XbXjpIJ",
        "outputId": "e35a0ebb-91a6-4312-bf82-03b2f769ff96"
      },
      "execution_count": 57,
      "outputs": [
        {
          "output_type": "execute_result",
          "data": {
            "text/plain": [
              "<torch._C.Generator at 0x7cd0c71667d0>"
            ]
          },
          "metadata": {},
          "execution_count": 57
        }
      ]
    },
    {
      "cell_type": "code",
      "source": [
        "# class Network(nn.Module):\n",
        "\n",
        "#     def __init__(self):\n",
        "#         super().__init__()\n",
        "#         self.conv = nn.Sequential(\n",
        "#             nn.Conv2d(1, 8, kernel_size=3, padding=1),\n",
        "#             nn.ReLU(),\n",
        "#             nn.Conv2d(8, 16, kernel_size=3, padding=1),\n",
        "#             nn.ReLU()\n",
        "#         )\n",
        "#         self.fc = nn.Sequential(\n",
        "#             nn.Linear(16*6*6 + 2, 32),\n",
        "#             nn.ReLU(),\n",
        "#             nn.Linear(32, 4),\n",
        "#         )\n",
        "\n",
        "#     def forward(self, r, c, visit_grid):\n",
        "#         visit_grid = torch.tensor(visit_grid, dtype=torch.float32).unsqueeze(0).unsqueeze(0) / 36.0\n",
        "#         conv_out = self.conv(visit_grid).view(1, -1)\n",
        "#         pos = torch.tensor([r/5, c/5], dtype=torch.float32).unsqueeze(0)\n",
        "#         x = torch.cat([conv_out, pos], dim=1)\n",
        "#         logits = self.fc(x)\n",
        "#         return Categorical(logits=logits)\n",
        "\n",
        "\n",
        "class Network(nn.Module):\n",
        "    def __init__(self):\n",
        "        super().__init__()\n",
        "        self.fc = nn.Sequential(\n",
        "            nn.Linear(2, 32),\n",
        "            nn.ReLU(),\n",
        "            nn.Linear(32, 4),  # 4 actions\n",
        "            nn.Softmax(dim=-1)\n",
        "        )\n",
        "\n",
        "    def forward(self, x):\n",
        "        probs = self.fc(x)\n",
        "        return torch.distributions.Categorical(probs)\n"
      ],
      "metadata": {
        "id": "zf0NuqLUSN8v"
      },
      "execution_count": 67,
      "outputs": []
    },
    {
      "cell_type": "code",
      "source": [
        "lr = 1e-3\n",
        "model = Network()\n",
        "optimizer = optim.Adam(model.parameters(), lr=lr)"
      ],
      "metadata": {
        "id": "xbp---dPV6cu"
      },
      "execution_count": 68,
      "outputs": []
    },
    {
      "cell_type": "code",
      "source": [
        "def env_step(r,c,action):\n",
        "  # 0 up, 1 down, 2 left, 3 right\n",
        "  if action == 0:\n",
        "    r = max(0,r-1)\n",
        "  elif action == 1:\n",
        "    r = min(r+1,5)\n",
        "  elif action == 2:\n",
        "    c = max(0,c-1)\n",
        "  elif action == 3:\n",
        "    c = min(c+1,5)\n",
        "  return r,c\n",
        "\n",
        "def find_reward(r,c,state_visitation):\n",
        "  state_visitation[r][c] += 1\n",
        "  if(state_visitation[r][c] == 1):\n",
        "    return 10\n",
        "  else:\n",
        "    return 0"
      ],
      "metadata": {
        "id": "PooOz5NPqcIN"
      },
      "execution_count": 116,
      "outputs": []
    },
    {
      "cell_type": "code",
      "source": [
        "gamma = 0.99\n",
        "epoches = 1000"
      ],
      "metadata": {
        "id": "wi1zJkjLqKJv"
      },
      "execution_count": 117,
      "outputs": []
    },
    {
      "cell_type": "code",
      "source": [
        "reward_plot = []\n",
        "cnt = 0\n",
        "for epoch in range(epoches):\n",
        "  r = 5\n",
        "  c = 0\n",
        "  action_log_prob = []\n",
        "  rewards = []\n",
        "  state_visitation = [[0 for _ in range(6)] for _ in range(6)]\n",
        "  episode_reward = 0\n",
        "  for t in range(36):\n",
        "    # dist = model(r, c)\n",
        "    dist = model(torch.tensor([r, c], dtype=torch.float32))\n",
        "    action = dist.sample()\n",
        "    if(action == 2):\n",
        "      cnt+=1\n",
        "    r,c = env_step(r,c,action.item())\n",
        "    reward = find_reward(r,c,state_visitation)\n",
        "    episode_reward += reward\n",
        "    rewards.append(reward)\n",
        "    action_log_prob.append(dist.log_prob(action))\n",
        "\n",
        "  discounted = 0\n",
        "  reward_to_go = []\n",
        "  for reward in reversed(rewards):\n",
        "    discounted = reward + gamma * discounted\n",
        "    reward_to_go.insert(0,torch.tensor(discounted))\n",
        "\n",
        "  reward_to_go = torch.stack(reward_to_go)\n",
        "  reward_to_go = (reward_to_go - reward_to_go.mean()) / (reward_to_go.std() + 1e-8)\n",
        "  entropy = dist.entropy().mean()\n",
        "  loss = -1*torch.sum(torch.stack(action_log_prob)*reward_to_go) + 0.02*entropy\n",
        "  optimizer.zero_grad()\n",
        "  loss.backward()\n",
        "  optimizer.step()\n",
        "  reward_plot.append(episode_reward)\n",
        "  if(epoch%100 == 0):\n",
        "    print(episode_reward)"
      ],
      "metadata": {
        "colab": {
          "base_uri": "https://localhost:8080/"
        },
        "id": "mxD_laGQp9ZK",
        "outputId": "c5090523-a439-4e34-b9ab-702daac8122a"
      },
      "execution_count": 118,
      "outputs": [
        {
          "output_type": "stream",
          "name": "stdout",
          "text": [
            "10\n",
            "30\n",
            "190\n",
            "160\n",
            "140\n",
            "170\n",
            "150\n",
            "130\n",
            "150\n",
            "170\n"
          ]
        }
      ]
    },
    {
      "cell_type": "code",
      "source": [
        "# ok not exporing enough.\n",
        "# paile kunai actions le ramro reward aako jasto lagyo, ani tei liyo. this is not good.\n",
        "# let's make it explore more\n",
        "# how do it? as this is online rl\n",
        "# add entropy term in the loss\n",
        "\n",
        "\n",
        "# why so low reward? ok, this is the case\n",
        "# 1. it's action is really stocastic so even if it has learned policy, the policy is still little stocastic\n",
        "# 2. so it don't know the past actions,\n",
        "# 3. so i think this is the best we can get without incorporating memory.\n"
      ],
      "metadata": {
        "id": "RRqp_fnvwK0Z"
      },
      "execution_count": 122,
      "outputs": []
    },
    {
      "cell_type": "code",
      "source": [
        "import matplotlib.pyplot as plt\n",
        "plt.plot(reward_plot)\n",
        "plt.show()"
      ],
      "metadata": {
        "colab": {
          "base_uri": "https://localhost:8080/",
          "height": 430
        },
        "id": "WS0ouvmmqmF7",
        "outputId": "bb72e8cf-9105-423d-fa8e-cb65856cd4c2"
      },
      "execution_count": 120,
      "outputs": [
        {
          "output_type": "display_data",
          "data": {
            "text/plain": [
              "<Figure size 640x480 with 1 Axes>"
            ],
            "image/png": "[encoded data removed]"
          },
          "metadata": {}
        }
      ]
    },
    {
      "cell_type": "code",
      "source": [
        "r = 5\n",
        "c = 0\n",
        "print(r,c)\n",
        "state_visitation = [[0 for _ in range(6)] for _ in range(6)]\n",
        "for t in range(36):\n",
        "    # dist = model(r, c)\n",
        "    dist = model(torch.tensor([r, c], dtype=torch.float32))\n",
        "    action = dist.sample()\n",
        "    r,c = env_step(r,c,action.item())\n",
        "    reward = find_reward(r,c,state_visitation)\n",
        "    print(action,reward)\n",
        "    rewards.append(reward)\n",
        "    action_log_prob.append(dist.log_prob(action))"
      ],
      "metadata": {
        "colab": {
          "base_uri": "https://localhost:8080/"
        },
        "id": "yhkko10owq-2",
        "outputId": "2731fb65-f20d-4532-dc53-eaff1dc524da"
      },
      "execution_count": 121,
      "outputs": [
        {
          "output_type": "stream",
          "name": "stdout",
          "text": [
            "5 0\n",
            "tensor(0) 10\n",
            "tensor(0) 10\n",
            "tensor(0) 10\n",
            "tensor(0) 10\n",
            "tensor(3) 10\n",
            "tensor(3) 10\n",
            "tensor(3) 10\n",
            "tensor(1) 10\n",
            "tensor(0) 0\n",
            "tensor(3) 10\n",
            "tensor(1) 10\n",
            "tensor(3) 10\n",
            "tensor(1) 10\n",
            "tensor(1) 10\n",
            "tensor(1) 10\n",
            "tensor(1) 0\n",
            "tensor(1) 0\n",
            "tensor(1) 0\n",
            "tensor(1) 0\n",
            "tensor(1) 0\n",
            "tensor(1) 0\n",
            "tensor(1) 0\n",
            "tensor(1) 0\n",
            "tensor(1) 0\n",
            "tensor(1) 0\n",
            "tensor(1) 0\n",
            "tensor(1) 0\n",
            "tensor(1) 0\n",
            "tensor(0) 0\n",
            "tensor(1) 0\n",
            "tensor(1) 0\n",
            "tensor(1) 0\n",
            "tensor(1) 0\n",
            "tensor(3) 0\n",
            "tensor(1) 0\n",
            "tensor(1) 0\n"
          ]
        }
      ]
    },
    {
      "cell_type": "code",
      "source": [
        ""
      ],
      "metadata": {
        "id": "WH9uBKaFyjQi"
      },
      "execution_count": null,
      "outputs": []
    }
  ]
}