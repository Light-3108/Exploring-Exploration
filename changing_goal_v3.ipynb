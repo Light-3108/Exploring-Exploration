{
  "cells": [
    {
      "cell_type": "code",
      "execution_count": 27,
      "metadata": {
        "id": "JKjPh3vRSMtx"
      },
      "outputs": [],
      "source": [
        "import torch\n",
        "import torch.nn as nn\n",
        "import torch.optim as optim\n",
        "import torch.nn.functional as F\n",
        "from torch.distributions import Categorical\n",
        "import numpy as np\n",
        "import random\n",
        "import matplotlib.pyplot as plt"
      ]
    },
    {
      "cell_type": "code",
      "execution_count": 28,
      "metadata": {
        "colab": {
          "base_uri": "https://localhost:8080/"
        },
        "id": "Kk-X9XbXjpIJ",
        "outputId": "3d35eb6c-d4b7-4a68-d198-8565c6f305f7"
      },
      "outputs": [
        {
          "output_type": "execute_result",
          "data": {
            "text/plain": [
              "<torch._C.Generator at 0x7f0e764b6790>"
            ]
          },
          "metadata": {},
          "execution_count": 28
        }
      ],
      "source": [
        "seed = 42\n",
        "random.seed(seed)\n",
        "np.random.seed(seed)\n",
        "torch.manual_seed(seed)"
      ]
    },
    {
      "cell_type": "code",
      "source": [
        "class Network(nn.Module):\n",
        "    def __init__(self, in_channels, num_outputs, base_channels=16):\n",
        "        super(Network, self).__init__()\n",
        "        # Convolutional layers that preserve spatial dimensions\n",
        "        self.conv1 = nn.Conv2d(in_channels, base_channels, kernel_size=3, stride=1, padding=1)\n",
        "        self.conv2 = nn.Conv2d(base_channels, base_channels * 2, kernel_size=3, stride=1, padding=1)\n",
        "\n",
        "        # The input to the fully connected layer will be the flattened output of the conv layers\n",
        "        # For a 6x6 grid, the size is (base_channels * 2) * 6 * 6\n",
        "        flattened_size = base_channels * 2 * 6 * 6\n",
        "        self.fc1 = nn.Linear(flattened_size, 128)\n",
        "        self.fc2 = nn.Linear(128, num_outputs)\n",
        "        self.relu = nn.ReLU()\n",
        "\n",
        "    def forward(self, x):\n",
        "        # Input shape: [B, 2, 6, 6]\n",
        "        x = self.relu(self.conv1(x))  # Shape: [B, 16, 6, 6]\n",
        "        x = self.relu(self.conv2(x))  # Shape: [B, 32, 6, 6]\n",
        "        x = x.reshape(x.size(0), -1)      # Shape: [B, 32 * 6 * 6] = [B, 1152]\n",
        "        x = self.relu(self.fc1(x))    # Shape: [B, 128]\n",
        "        q_values = self.fc2(x)        # Shape: [B, 4]\n",
        "        return q_values\n",
        "\n",
        "    def train_on_batch(self, optimizer, obs, acts, rewards, next_obs, terminals, gamma=0.99):\n",
        "        next_q_values = self.forward(next_obs)\n",
        "        max_next_q_values = torch.max(next_q_values, dim=1)[0].detach()\n",
        "\n",
        "        terminal_mods = 1 - terminals\n",
        "        actual_qs = rewards + terminal_mods * gamma * max_next_q_values\n",
        "\n",
        "        pred_qs = self.forward(obs)\n",
        "        pred_qs = pred_qs.gather(index=acts.view(-1, 1), dim=1).view(-1)\n",
        "\n",
        "        loss = torch.mean((actual_qs - pred_qs) ** 2)\n",
        "\n",
        "        optimizer.zero_grad()\n",
        "        loss.backward()\n",
        "        optimizer.step()"
      ],
      "metadata": {
        "id": "iYrJBySWnAeh"
      },
      "execution_count": 36,
      "outputs": []
    },
    {
      "cell_type": "code",
      "source": [
        "import math\n",
        "def env_step(obs, action, goal_r,goal_c):\n",
        "\n",
        "  # if agent tires to go beyond (6,6), ignoring the action and increasing visitation count at that cell\n",
        "  # find obs[r][c][0] = 1, this means here is the agent\n",
        "  # make obs[r][c][0] = 0, after taking action agent will not be here\n",
        "  # 0 = up, 1 = down, 2 = left, 3 = right\n",
        "  # after taking action let agent reached r',c'. if action is invalid, meaning it goes out of bounds, to take any action\n",
        "  # increase the count of that state i.e obs[r][c][1] += 1\n",
        "\n",
        "  # make obs[r'][c'][0] = 1  because agent is here\n",
        "  # do obs[r'][c'][0] += 1   because agent visited here\n",
        "\n",
        "  # now return the obs\n",
        "\n",
        "  obs = obs.clone()\n",
        "  _, _, H, W = obs.shape\n",
        "  r, c = torch.where(obs[0, 0] == 1)\n",
        "  r, c = int(r[0]), int(c[0])\n",
        "\n",
        "  obs[0, 0, r, c] = 0  # remove agent\n",
        "\n",
        "  if action == 0 and r > 0: r -= 1         # up\n",
        "  elif action == 1 and r < H - 1: r += 1   # down\n",
        "  elif action == 2 and c > 0: c -= 1       # left\n",
        "  elif action == 3 and c < W - 1: c += 1   # right\n",
        "\n",
        "  obs[0, 0, r, c] = 1                      # new position\n",
        "  # obs[0, 1, r, c] = obs[0,1,r,c] + 1                     # increment visit\n",
        "  reward = -1\n",
        "  done = False\n",
        "  if r == goal_r and c == goal_c:\n",
        "    done = True\n",
        "    reward = 50\n",
        "  return obs, reward, done"
      ],
      "metadata": {
        "id": "Bme3VUWTCafa"
      },
      "execution_count": 37,
      "outputs": []
    },
    {
      "cell_type": "code",
      "source": [
        "class ExperienceReplay():\n",
        "    def __init__(self, capacity):\n",
        "        self.capacity = capacity\n",
        "        self.data = []\n",
        "\n",
        "    def add_step(self, step_data):\n",
        "        self.data.append(step_data)\n",
        "        if len(self.data) > self.capacity:\n",
        "            self.data.pop(0)\n",
        "\n",
        "    def sample(self, n):\n",
        "        n = min(n, len(self.data))\n",
        "        indices = np.random.choice(range(len(self.data)), n, replace=False)\n",
        "        samples = [self.data[i] for i in indices]\n",
        "\n",
        "        # Unzip the list of experiences into separate tuples for each data type\n",
        "        obs_batch, act_batch, reward_batch, next_obs_batch, terminal_batch = zip(*samples)\n",
        "\n",
        "        # In your loop, obs and next_obs were saved as numpy arrays with shape (1, 2, 6, 6).\n",
        "        # np.concatenate joins this list of arrays into a single array of shape (n, 2, 6, 6).\n",
        "        obs_data = np.stack(obs_batch, axis=0)\n",
        "        next_obs_data = np.stack(next_obs_batch, axis=0)\n",
        "\n",
        "        # Convert all data components to the correct PyTorch tensors and move to the GPU\n",
        "        state_data = torch.tensor(obs_data).float().cuda()\n",
        "        act_data = torch.tensor(act_batch).long().cuda()\n",
        "        reward_data = torch.tensor(reward_batch).float().cuda()\n",
        "        next_state_data = torch.tensor(next_obs_data).float().cuda()\n",
        "        terminal_data = torch.tensor(terminal_batch).float().cuda()\n",
        "\n",
        "        return state_data, act_data, reward_data, next_state_data, terminal_data"
      ],
      "metadata": {
        "id": "eCYbHoIBFhQa"
      },
      "execution_count": 38,
      "outputs": []
    },
    {
      "cell_type": "code",
      "source": [
        "# obs = torch.zeros(6,6,2, dtype = torch.float32)\n",
        "# obs[5][0][0] = 1 # agent is at the buttom left corner\n",
        "# obs[5][0][1] = 1 # it already visited it one time\n",
        "# obs = obs.unsqueeze(0)\n",
        "# obs = obs.permute(0,3,1,2)\n",
        "# global_reward = 0\n",
        "# for t in range(72):\n",
        "#   q_values = model(obs)\n",
        "#   q_values = q_values.cpu().detach().numpy()\n",
        "#   action = np.argmax(q_values)\n",
        "#   next_obs,reward,done = env_step(obs, action)\n",
        "#   obs = next_obs\n",
        "#   global_reward += reward"
      ],
      "metadata": {
        "id": "JGNHRvOLYbqV"
      },
      "execution_count": 39,
      "outputs": []
    },
    {
      "cell_type": "code",
      "source": [
        "er_capacity = 5000\n",
        "learning_rate = 1e-4\n",
        "n_episodes = 3500\n",
        "max_steps = 72\n",
        "update_freq = 4\n",
        "train_batch_size = 32\n",
        "print_freq = 100\n",
        "epsilon = lambda step: np.clip(1 - 0.9 * (step/36000), 0.1, 1)"
      ],
      "metadata": {
        "id": "FEPrQD5IV3Pm"
      },
      "execution_count": 40,
      "outputs": []
    },
    {
      "cell_type": "code",
      "execution_count": 41,
      "metadata": {
        "colab": {
          "base_uri": "https://localhost:8080/"
        },
        "id": "mxD_laGQp9ZK",
        "outputId": "f21f95b7-06f0-4962-9726-33aa73dbbbe1"
      },
      "outputs": [
        {
          "output_type": "stream",
          "name": "stdout",
          "text": [
            "Episode #0 | Step #44 | Epsilon 1.00 | Avg. Reward 7.00\n",
            "Episode #100 | Step #5119 | Epsilon 0.87 | Avg. Reward -22.70\n",
            "Episode #200 | Step #9927 | Epsilon 0.75 | Avg. Reward -16.46\n",
            "Episode #300 | Step #14684 | Epsilon 0.63 | Avg. Reward -17.99\n",
            "Episode #400 | Step #19261 | Epsilon 0.52 | Avg. Reward -13.64\n",
            "Episode #500 | Step #23685 | Epsilon 0.41 | Avg. Reward -13.13\n",
            "Episode #600 | Step #27176 | Epsilon 0.32 | Avg. Reward 4.36\n",
            "Episode #700 | Step #29954 | Epsilon 0.25 | Avg. Reward 16.08\n",
            "Episode #800 | Step #35086 | Epsilon 0.12 | Avg. Reward -27.35\n",
            "Episode #900 | Step #38933 | Epsilon 0.10 | Avg. Reward -3.79\n",
            "Episode #1000 | Step #41551 | Epsilon 0.10 | Avg. Reward 17.68\n",
            "Episode #1100 | Step #43617 | Epsilon 0.10 | Avg. Reward 22.18\n",
            "Episode #1200 | Step #45311 | Epsilon 0.10 | Avg. Reward 29.98\n",
            "Episode #1300 | Step #46867 | Epsilon 0.10 | Avg. Reward 32.89\n",
            "Episode #1400 | Step #48461 | Epsilon 0.10 | Avg. Reward 30.98\n",
            "Episode #1500 | Step #49709 | Epsilon 0.10 | Avg. Reward 36.99\n",
            "Episode #1600 | Step #51114 | Epsilon 0.10 | Avg. Reward 35.93\n",
            "Episode #1700 | Step #52021 | Epsilon 0.10 | Avg. Reward 40.91\n",
            "Episode #1800 | Step #52673 | Epsilon 0.10 | Avg. Reward 44.48\n",
            "Episode #1900 | Step #53381 | Epsilon 0.10 | Avg. Reward 43.92\n",
            "Episode #2000 | Step #54071 | Epsilon 0.10 | Avg. Reward 43.59\n",
            "Episode #2100 | Step #54712 | Epsilon 0.10 | Avg. Reward 44.59\n",
            "Episode #2200 | Step #55302 | Epsilon 0.10 | Avg. Reward 45.10\n",
            "Episode #2300 | Step #55941 | Epsilon 0.10 | Avg. Reward 44.61\n",
            "Episode #2400 | Step #56479 | Epsilon 0.10 | Avg. Reward 45.62\n",
            "Episode #2500 | Step #57042 | Epsilon 0.10 | Avg. Reward 45.37\n",
            "Episode #2600 | Step #57595 | Epsilon 0.10 | Avg. Reward 45.47\n",
            "Episode #2700 | Step #58100 | Epsilon 0.10 | Avg. Reward 45.95\n",
            "Episode #2800 | Step #58605 | Epsilon 0.10 | Avg. Reward 45.95\n",
            "Episode #2900 | Step #59125 | Epsilon 0.10 | Avg. Reward 45.80\n",
            "Episode #3000 | Step #59657 | Epsilon 0.10 | Avg. Reward 45.68\n",
            "Episode #3100 | Step #60194 | Epsilon 0.10 | Avg. Reward 45.63\n",
            "Episode #3200 | Step #60745 | Epsilon 0.10 | Avg. Reward 45.49\n",
            "Episode #3300 | Step #61257 | Epsilon 0.10 | Avg. Reward 45.88\n",
            "Episode #3400 | Step #61777 | Epsilon 0.10 | Avg. Reward 45.80\n"
          ]
        }
      ],
      "source": [
        "learning_rate = 1e-4\n",
        "er = ExperienceReplay(er_capacity)\n",
        "model = Network(2,4).cuda()\n",
        "optimizer = torch.optim.RMSprop(model.parameters(), lr=learning_rate, eps=1e-6)\n",
        "all_rewards = []\n",
        "global_step = 0\n",
        "\n",
        "for episode in range(n_episodes):\n",
        "\n",
        "    obs = torch.zeros(6,6,2, dtype = torch.float32)\n",
        "    goal_r = random.randint(0, 5)\n",
        "    goal_c = random.randint(0, 5)\n",
        "\n",
        "    while True:\n",
        "        r = random.randint(0, 5)\n",
        "        c = random.randint(0, 5)\n",
        "        if r != goal_r and  c != goal_c:\n",
        "            break\n",
        "\n",
        "    obs[r][c][0] = 1 # agent is at the buttom left corner\n",
        "    obs[goal_r][goal_c][1] = 1 # it's a goal\n",
        "    obs = obs.unsqueeze(0)\n",
        "    obs = obs.permute(0,3,1,2)  #[1,2,6,6]\n",
        "    obs = obs.cuda()\n",
        "    episode_reward = 0\n",
        "    step = 0\n",
        "    while step < max_steps:\n",
        "\n",
        "        ### Enact a step ###\n",
        "\n",
        "        if np.random.rand() < epsilon(global_step):\n",
        "            act = np.random.choice(4)\n",
        "        else:\n",
        "            q_values = model(obs)\n",
        "            q_values = q_values.cpu().detach().numpy()\n",
        "            act = np.argmax(q_values)\n",
        "\n",
        "        cumulative_reward = 0\n",
        "\n",
        "        next_obs, reward, done = env_step(obs,act,goal_r,goal_c)\n",
        "        episode_reward += reward\n",
        "        er.add_step([obs.squeeze(0).cpu().numpy(), act, reward, next_obs.squeeze(0).cpu().numpy(), int(done)])\n",
        "        obs = next_obs.cuda()\n",
        "\n",
        "        ### Train on a minibatch ###\n",
        "\n",
        "        if global_step % update_freq == 0:\n",
        "            obs_data, act_data, reward_data, next_obs_data, terminal_data = er.sample(train_batch_size)\n",
        "            model.train_on_batch(optimizer, obs_data, act_data, reward_data, next_obs_data, terminal_data)\n",
        "\n",
        "        step += 1\n",
        "        global_step += 1\n",
        "\n",
        "        if done or step >= max_steps:\n",
        "            break\n",
        "\n",
        "    all_rewards.append(episode_reward)\n",
        "\n",
        "    if episode % print_freq == 0:\n",
        "        print('Episode #{} | Step #{} | Epsilon {:.2f} | Avg. Reward {:.2f}'.format(\n",
        "            episode, global_step, epsilon(global_step), np.mean(all_rewards[-print_freq:])))"
      ]
    },
    {
      "cell_type": "code",
      "source": [
        "torch.save(model.state_dict(), 'model.pth')\n",
        "from google.colab import files\n",
        "files.download('model.pth')\n",
        "# ramro sample ni ta buffer ma basnu paryo, so, buffer ma add garesi matra break garne"
      ],
      "metadata": {
        "id": "wEsAK_QzxwJa"
      },
      "execution_count": null,
      "outputs": []
    },
    {
      "cell_type": "code",
      "execution_count": 42,
      "metadata": {
        "id": "RRqp_fnvwK0Z",
        "colab": {
          "base_uri": "https://localhost:8080/",
          "height": 447
        },
        "outputId": "021d5d57-d70b-4ef1-f3ea-b3ea480b3e54"
      },
      "outputs": [
        {
          "output_type": "execute_result",
          "data": {
            "text/plain": [
              "[<matplotlib.lines.Line2D at 0x7f0d259eca90>]"
            ]
          },
          "metadata": {},
          "execution_count": 42
        },
        {
          "output_type": "display_data",
          "data": {
            "text/plain": [
              "<Figure size 640x480 with 1 Axes>"
            ],
            "image/png": "[encoded data removed]"
          },
          "metadata": {}
        }
      ],
      "source": [
        "import matplotlib.pyplot as plt\n",
        "plt.plot(all_rewards)"
      ]
    },
    {
      "cell_type": "code",
      "execution_count": 47,
      "metadata": {
        "colab": {
          "base_uri": "https://localhost:8080/"
        },
        "id": "WS0ouvmmqmF7",
        "outputId": "bd78212c-ce91-453c-f52e-f6a586d45d3c"
      },
      "outputs": [
        {
          "output_type": "stream",
          "name": "stdout",
          "text": [
            "0 4\n",
            "1 1\n",
            "2\n",
            "2\n",
            "2\n",
            "1\n"
          ]
        }
      ],
      "source": [
        "obs = torch.zeros(6,6,2, dtype = torch.float32)\n",
        "goal_r = random.randint(0, 5)\n",
        "goal_c = random.randint(0, 5)\n",
        "\n",
        "while True:\n",
        "    r = random.randint(0, 5)\n",
        "    c = random.randint(0, 5)\n",
        "    if r != goal_r and  c != goal_c:\n",
        "        break\n",
        "\n",
        "obs[r][c][0] = 1 # agent is at the buttom left corner\n",
        "obs[goal_r][goal_c][1] = 1 # it's a goal\n",
        "obs = obs.unsqueeze(0)\n",
        "obs = obs.permute(0,3,1,2)  #[1,2,6,6]\n",
        "obs = obs.cuda()\n",
        "episode_reward = 0\n",
        "step = 0\n",
        "print(r,c)\n",
        "print(goal_r,goal_c)\n",
        "while step < max_steps:\n",
        "\n",
        "    ### Enact a step ##\n",
        "    q_values = model(obs)\n",
        "    q_values = q_values.cpu().detach().numpy()\n",
        "    act = np.argmax(q_values)\n",
        "    next_obs, reward, done = env_step(obs,act,goal_r,goal_c)\n",
        "    episode_reward += reward\n",
        "    obs = next_obs.cuda()\n",
        "    print(act)\n",
        "    step+=1\n",
        "    if(done):\n",
        "      break"
      ]
    },
    {
      "cell_type": "code",
      "execution_count": null,
      "metadata": {
        "colab": {
          "base_uri": "https://localhost:8080/"
        },
        "id": "yhkko10owq-2",
        "outputId": "2731fb65-f20d-4532-dc53-eaff1dc524da"
      },
      "outputs": [
        {
          "name": "stdout",
          "output_type": "stream",
          "text": [
            "5 0\n",
            "tensor(3) 10\n",
            "tensor(3) 10\n",
            "tensor(3) 10\n",
            "tensor(3) 10\n",
            "tensor(3) 10\n",
            "tensor(3) 2\n",
            "tensor(0) 10\n",
            "tensor(0) 10\n",
            "tensor(2) 10\n",
            "tensor(0) 10\n",
            "tensor(2) 10\n",
            "tensor(2) 10\n",
            "tensor(3) 2\n",
            "tensor(3) 2\n",
            "tensor(1) 2\n",
            "tensor(2) 10\n",
            "tensor(2) 10\n",
            "tensor(2) 10\n",
            "tensor(3) 2\n",
            "tensor(3) 2\n",
            "tensor(0) 2\n",
            "tensor(2) 2\n",
            "tensor(0) 10\n",
            "tensor(3) 10\n",
            "tensor(2) 2\n",
            "tensor(3) 2\n",
            "tensor(2) 2\n",
            "tensor(2) 10\n",
            "tensor(3) 2\n",
            "tensor(2) 2\n",
            "tensor(1) 10\n",
            "tensor(0) 2\n",
            "tensor(3) 2\n",
            "tensor(0) 10\n",
            "tensor(3) 10\n",
            "tensor(2) 2\n"
          ]
        }
      ],
      "source": []
    },
    {
      "cell_type": "code",
      "execution_count": null,
      "metadata": {
        "id": "WH9uBKaFyjQi",
        "outputId": "4f0dfeb0-b0de-4bd6-df31-64d8fb648bb6"
      },
      "outputs": [
        {
          "name": "stdout",
          "output_type": "stream",
          "text": [
            "5 0\n",
            "tensor(3) 10\n",
            "tensor(3) 10\n",
            "tensor(0) 10\n",
            "tensor(3) 10\n",
            "tensor(3) 10\n",
            "tensor(1) 10\n",
            "tensor(3) 10\n",
            "tensor(0) 10\n",
            "tensor(0) 10\n",
            "tensor(1) 2\n",
            "tensor(1) 2\n",
            "tensor(0) 2\n",
            "tensor(2) 2\n",
            "tensor(3) 2\n",
            "tensor(1) 2\n",
            "tensor(2) 2\n",
            "tensor(3) 2\n",
            "tensor(3) 2\n",
            "tensor(3) 2\n",
            "tensor(3) 2\n",
            "tensor(2) 2\n",
            "tensor(1) 2\n",
            "tensor(2) 10\n",
            "tensor(1) 2\n",
            "tensor(1) 2\n",
            "tensor(0) 2\n",
            "tensor(1) 2\n",
            "tensor(3) 2\n",
            "tensor(1) 2\n",
            "tensor(3) 2\n",
            "tensor(0) 2\n",
            "tensor(2) 2\n",
            "tensor(1) 2\n",
            "tensor(2) 2\n",
            "tensor(3) 2\n",
            "tensor(0) 2\n"
          ]
        }
      ],
      "source": []
    },
    {
      "cell_type": "code",
      "execution_count": null,
      "metadata": {
        "id": "kUzb7Oh9USdE"
      },
      "outputs": [],
      "source": []
    }
  ],
  "metadata": {
    "colab": {
      "provenance": [],
      "gpuType": "T4"
    },
    "kernelspec": {
      "display_name": "Python 3",
      "name": "python3"
    },
    "language_info": {
      "codemirror_mode": {
        "name": "ipython",
        "version": 3
      },
      "file_extension": ".py",
      "mimetype": "text/x-python",
      "name": "python",
      "nbconvert_exporter": "python",
      "pygments_lexer": "ipython3",
      "version": "3.11.5"
    },
    "accelerator": "GPU"
  },
  "nbformat": 4,
  "nbformat_minor": 0
}
