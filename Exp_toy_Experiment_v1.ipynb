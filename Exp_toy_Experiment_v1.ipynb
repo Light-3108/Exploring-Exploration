{
  "nbformat": 4,
  "nbformat_minor": 0,
  "metadata": {
    "colab": {
      "provenance": []
    },
    "kernelspec": {
      "name": "python3",
      "display_name": "Python 3"
    },
    "language_info": {
      "name": "python"
    }
  },
  "cells": [
    {
      "cell_type": "code",
      "execution_count": null,
      "metadata": {
        "id": "l-opo8gGQcX6"
      },
      "outputs": [],
      "source": [
        "# Training policy which maximizes the entropy of state visitation distribution\n",
        "# st -> Agent -> at -> env -> st+1-> Agent ... repeat\n",
        "# env = 6*6 matrix\n",
        "\n",
        "# state is of shape (6,6,2) i.e full envionment states\n",
        "# cell[5][5][0] = 1 means agent is in the cell, 0 means not in the cell\n",
        "# cell[5][5][1] = How many times agent visited that state in one episode\n",
        "\n",
        "# debug\n",
        "# see loss\n",
        "# cnn"
      ]
    },
    {
      "cell_type": "code",
      "source": [
        "import torch\n",
        "import torch.nn as nn\n",
        "import torch.optim as optim\n",
        "import torch.nn.functional as F\n",
        "from torch.distributions import Categorical\n",
        "import numpy as np\n",
        "import random\n",
        "import matplotlib.pyplot as plt"
      ],
      "metadata": {
        "id": "JKjPh3vRSMtx"
      },
      "execution_count": 15,
      "outputs": []
    },
    {
      "cell_type": "code",
      "source": [
        "epsilon = random.random()\n",
        "print(epsilon)"
      ],
      "metadata": {
        "colab": {
          "base_uri": "https://localhost:8080/"
        },
        "id": "ut2P92BITS-c",
        "outputId": "3de73706-f8af-495d-f87e-ef86bf971b21"
      },
      "execution_count": 16,
      "outputs": [
        {
          "output_type": "stream",
          "name": "stdout",
          "text": [
            "0.5264244619795013\n"
          ]
        }
      ]
    },
    {
      "cell_type": "code",
      "source": [
        "seed = 42\n",
        "random.seed(seed)\n",
        "np.random.seed(seed)\n",
        "torch.manual_seed(seed)"
      ],
      "metadata": {
        "colab": {
          "base_uri": "https://localhost:8080/"
        },
        "id": "Kk-X9XbXjpIJ",
        "outputId": "d2c2e6d0-aaa1-4e63-f14f-d44aa9e400dc"
      },
      "execution_count": 17,
      "outputs": [
        {
          "output_type": "execute_result",
          "data": {
            "text/plain": [
              "<torch._C.Generator at 0x7feb481cddb0>"
            ]
          },
          "metadata": {},
          "execution_count": 17
        }
      ]
    },
    {
      "cell_type": "code",
      "source": [
        "# class Network(nn.Module):\n",
        "#     def __init__(self, in_channels, num_outputs, base_channels=4):\n",
        "#         super(Network, self).__init__()\n",
        "#         self.conv_block1 = nn.Conv2d(in_channels, base_channels, kernel_size=2, stride=1, padding=0)   # 6 -> 5\n",
        "#         self.conv_block2 = nn.Conv2d(base_channels, 2*base_channels, kernel_size=2, stride=1, padding=0) # 5 -> 4\n",
        "\n",
        "#         flatten = 2 * base_channels * 4 * 4\n",
        "#         self.fc1 = nn.Linear(flatten, 60)\n",
        "#         self.actor = nn.Linear(60, num_outputs)\n",
        "#         self.relu = nn.ReLU()\n",
        "\n",
        "#     def forward(self, x):\n",
        "#         x = F.relu(self.conv_block1(x))  #  [B,4,5,5]\n",
        "#         x = F.relu(self.conv_block2(x))  #  [B,8,4,4]\n",
        "#         x = x.reshape(x.size(0), -1)     #  [B,128]\n",
        "#         x = self.relu(self.fc1(x))       #  [B,30]\n",
        "#         dist = Categorical(logits=self.actor(x))\n",
        "#         return dist\n",
        "\n",
        "class Network(nn.Module):\n",
        "    def __init__(self):\n",
        "        super().__init__()\n",
        "        self.fc = nn.Sequential(\n",
        "            nn.Linear(6*6*2, 128),\n",
        "            nn.ReLU(),\n",
        "            nn.Linear(128, 64),\n",
        "            nn.ReLU(),\n",
        "            nn.Linear(64, 4)\n",
        "        )\n",
        "\n",
        "    def forward(self, x):\n",
        "        x = x.reshape(x.size(0), -1) # flatten\n",
        "        logits = self.fc(x)\n",
        "        return Categorical(logits=logits)\n"
      ],
      "metadata": {
        "id": "zf0NuqLUSN8v"
      },
      "execution_count": 18,
      "outputs": []
    },
    {
      "cell_type": "code",
      "source": [
        "lr = 5e-4\n",
        "model = Network( )\n",
        "optimizer = optim.Adam(model.parameters(), lr=lr)\n",
        "eps = 1e-8"
      ],
      "metadata": {
        "id": "xbp---dPV6cu"
      },
      "execution_count": 19,
      "outputs": []
    },
    {
      "cell_type": "code",
      "source": [
        "# Random policy actions\n",
        "obs = torch.zeros(6,6,2, dtype = torch.float32)\n",
        "obs[5][0][0] = 1 # agent is at the buttom left corner\n",
        "obs[5][0][1] = 1 # it already visited it one time\n",
        "obs = obs.unsqueeze(0)\n",
        "obs = obs.permute(0,3,1,2)\n",
        "for t in range(36):\n",
        "  dist = model(obs)\n",
        "  action = dist.sample()\n",
        "  next_obs = env_step(obs,action)\n",
        "  obs = next_obs\n",
        "  print(action.item())"
      ],
      "metadata": {
        "colab": {
          "base_uri": "https://localhost:8080/",
          "height": 211
        },
        "id": "E2V3nwDeW13v",
        "outputId": "54de2ac4-b3cd-46c2-9bfc-841ff85f439e"
      },
      "execution_count": 20,
      "outputs": [
        {
          "output_type": "error",
          "ename": "NameError",
          "evalue": "name 'env_step' is not defined",
          "traceback": [
            "\u001b[0;31m---------------------------------------------------------------------------\u001b[0m",
            "\u001b[0;31mNameError\u001b[0m                                 Traceback (most recent call last)",
            "\u001b[0;32m/tmp/ipython-input-20-1455092136.py\u001b[0m in \u001b[0;36m<cell line: 0>\u001b[0;34m()\u001b[0m\n\u001b[1;32m      8\u001b[0m   \u001b[0mdist\u001b[0m \u001b[0;34m=\u001b[0m \u001b[0mmodel\u001b[0m\u001b[0;34m(\u001b[0m\u001b[0mobs\u001b[0m\u001b[0;34m)\u001b[0m\u001b[0;34m\u001b[0m\u001b[0;34m\u001b[0m\u001b[0m\n\u001b[1;32m      9\u001b[0m   \u001b[0maction\u001b[0m \u001b[0;34m=\u001b[0m \u001b[0mdist\u001b[0m\u001b[0;34m.\u001b[0m\u001b[0msample\u001b[0m\u001b[0;34m(\u001b[0m\u001b[0;34m)\u001b[0m\u001b[0;34m\u001b[0m\u001b[0;34m\u001b[0m\u001b[0m\n\u001b[0;32m---> 10\u001b[0;31m   \u001b[0mnext_obs\u001b[0m \u001b[0;34m=\u001b[0m \u001b[0menv_step\u001b[0m\u001b[0;34m(\u001b[0m\u001b[0mobs\u001b[0m\u001b[0;34m,\u001b[0m\u001b[0maction\u001b[0m\u001b[0;34m)\u001b[0m\u001b[0;34m\u001b[0m\u001b[0;34m\u001b[0m\u001b[0m\n\u001b[0m\u001b[1;32m     11\u001b[0m   \u001b[0mobs\u001b[0m \u001b[0;34m=\u001b[0m \u001b[0mnext_obs\u001b[0m\u001b[0;34m\u001b[0m\u001b[0;34m\u001b[0m\u001b[0m\n\u001b[1;32m     12\u001b[0m   \u001b[0mprint\u001b[0m\u001b[0;34m(\u001b[0m\u001b[0maction\u001b[0m\u001b[0;34m.\u001b[0m\u001b[0mitem\u001b[0m\u001b[0;34m(\u001b[0m\u001b[0;34m)\u001b[0m\u001b[0;34m)\u001b[0m\u001b[0;34m\u001b[0m\u001b[0;34m\u001b[0m\u001b[0m\n",
            "\u001b[0;31mNameError\u001b[0m: name 'env_step' is not defined"
          ]
        }
      ]
    },
    {
      "cell_type": "code",
      "source": [
        "def env_step(obs, action):\n",
        "  # if agent tires to go beyond (6,6), ignoring the action and increasing visitation count at that cell\n",
        "  # find obs[r][c][0] = 1, this means here is the agent\n",
        "  # make obs[r][c][0] = 0, after taking action agent will not be here\n",
        "  # 0 = up, 1 = down, 2 = left, 3 = right\n",
        "  # after taking action let agent reached r',c'. if action is invalid, meaning it goes out of bounds, to take any action\n",
        "  # increase the count of that state i.e obs[r][c][1] += 1\n",
        "\n",
        "  # make obs[r'][c'][0] = 1  because agent is here\n",
        "  # do obs[r'][c'][0] += 1   because agent visited here\n",
        "\n",
        "  # now return the obs\n",
        "\n",
        "  obs = obs.clone()\n",
        "  _, _, H, W = obs.shape\n",
        "  r, c = torch.where(obs[0, 0] == 1)\n",
        "  r, c = int(r[0]), int(c[0])\n",
        "\n",
        "  obs[0, 0, r, c] = 0  # remove agent\n",
        "\n",
        "  if action == 0 and r > 0: r -= 1         # up\n",
        "  elif action == 1 and r < H - 1: r += 1   # down\n",
        "  elif action == 2 and c > 0: c -= 1       # left\n",
        "  elif action == 3 and c < W - 1: c += 1   # right\n",
        "\n",
        "  obs[0, 0, r, c] = 1                      # new position\n",
        "  obs[0, 1, r, c] += 1                     # increment visit\n",
        "  return obs\n",
        "\n",
        "# def find_state_distribution(obs):\n",
        "#   # As we have all information of state visitation count at last observation of the time steps, we can find distribution from here\n",
        "#   # create (6,6) tesor\n",
        "#   # for each cell, it distribution is obs[r][c][1]/30\n",
        "#   # return the distribution\n",
        "#   visit_count = obs[0, 1]  # shape (6,6)\n",
        "#   dist = visit_count / visit_count.sum()\n",
        "#   return dist\n",
        "\n",
        "# def find_total_dist(dists):\n",
        "#   # each trajectory ko each reward garum\n",
        "#   return torch.stack(dists)"
      ],
      "metadata": {
        "id": "Q0_DbZHOchsH"
      },
      "execution_count": 21,
      "outputs": []
    },
    {
      "cell_type": "code",
      "source": [
        "epoches = 100\n",
        "episodes = 32\n",
        "gamma = 0.99\n",
        "baseline = 0\n",
        "alpha = 0.9\n",
        "plt_loss = []\n",
        "for epoch in range(epoches):\n",
        "  # d_T_pie_s_episodes = []\n",
        "  prob_sum = []\n",
        "  batch_losses = []\n",
        "  batch_reward = []\n",
        "  for episode in range(episodes):\n",
        "    obs = torch.zeros(6,6,2, dtype = torch.float32)\n",
        "    obs[5][0][0] = 1  #  agent is at the buttom left corner\n",
        "    obs[5][0][1] = 1  #  it already visited it one time\n",
        "    obs = obs.unsqueeze(0)\n",
        "    obs = obs.permute(0,3,1,2)\n",
        "    action_log_prob = []\n",
        "    rewards = []\n",
        "\n",
        "    for t in range(36):\n",
        "      dist = model(obs)\n",
        "      epsilon = random.random()\n",
        "      if epsilon < 0.5:\n",
        "        action = dist.sample()\n",
        "      else:\n",
        "        action = torch.tensor(random.randint(0,3))\n",
        "      action_log_prob.append(dist.log_prob(action))\n",
        "      next_obs = env_step(obs,action)\n",
        "\n",
        "      r, c = torch.where(next_obs[0, 0] == 1)\n",
        "      visit_count = next_obs[0, 1, r, c]\n",
        "      reward = 10 / (visit_count**5)\n",
        "      rewards.append(reward)\n",
        "\n",
        "\n",
        "      obs = next_obs\n",
        "\n",
        "    rewards = torch.stack(rewards)\n",
        "    batch_reward.append(rewards.sum())\n",
        "    future_rewards = []\n",
        "    discounted_reward = 0\n",
        "    for reward in reversed(rewards):\n",
        "      discounted_reward = reward + gamma * discounted_reward\n",
        "      future_rewards.insert(0, discounted_reward)\n",
        "\n",
        "    future_rewards = torch.stack(future_rewards)\n",
        "    # future_rewards = (future_rewards - future_rewards.mean()) / (future_rewards.std() + eps)\n",
        "    advantages = future_rewards.detach() - baseline\n",
        "    episode_return = future_rewards[0]\n",
        "    baseline = alpha * baseline + (1 - alpha) * episode_return.item()\n",
        "\n",
        "    action_log_prob = torch.stack(action_log_prob)\n",
        "    policy_loss = (action_log_prob * advantages).sum()\n",
        "\n",
        "    batch_losses.append(policy_loss)\n",
        "  # state_distribution = find_total_dist(d_T_pie_s_episodes)\n",
        "  # entropy_or_reward = torch.stack([ -(d*torch.log(d+eps)).sum() for d in state_distribution ])\n",
        "  # rough backprop flow is entropy → state_distribution → d_T_pie_s_episodes → d_T_pie_s → obs → action --sample()-- → model\n",
        "  # we can't backpropagate through this because dist.sample() is non-differentiable\n",
        "  # so using reinforce\n",
        "  # loss = -(torch.stack(prob_sum) * entropy_or_reward).mean()\n",
        "\n",
        "  print(f\" reward: {torch.stack(batch_reward).mean()} \")\n",
        "  optimizer.zero_grad()\n",
        "  loss = torch.stack(batch_losses).mean()\n",
        "  if epoch%10 == 0:\n",
        "    # print(f\"epoch: {epoch}\")\n",
        "    # print(f\"entropy: {entropy_or_reward}\")\n",
        "    # print(f\"loss at epoch: {loss}\")\n",
        "    # total_norm = 0\n",
        "    # for p in model.parameters():\n",
        "    #   if p.grad is not None:\n",
        "    #     total_norm += p.grad.data.norm(2).item()**2\n",
        "    # total_norm = total_norm**0.5\n",
        "    # print(\"grad norm:\", total_norm)\n",
        "    print(f\"Epoch {epoch}, Loss: {loss.item():.3f}, Baseline: {baseline:.3f}\")\n",
        "  plt_loss.append(loss.item())\n",
        "  loss.backward()\n",
        "  optimizer.step()"
      ],
      "metadata": {
        "colab": {
          "base_uri": "https://localhost:8080/"
        },
        "id": "e4IfX-hHX4_W",
        "outputId": "3f3ed171-051d-4cd5-ffa7-e12352b629bd"
      },
      "execution_count": null,
      "outputs": [
        {
          "output_type": "stream",
          "name": "stdout",
          "text": [
            " reward: 110.14320373535156 \n",
            "Epoch 0, Loss: 23498.785, Baseline: 98.098\n",
            " reward: 105.99908447265625 \n",
            " reward: 105.03401947021484 \n",
            " reward: 98.7079849243164 \n",
            " reward: 110.43074798583984 \n",
            " reward: 115.28547668457031 \n",
            " reward: 98.96621704101562 \n",
            " reward: 103.23670959472656 \n",
            " reward: 116.29521942138672 \n",
            " reward: 108.81330108642578 \n",
            " reward: 111.3518295288086 \n",
            "Epoch 10, Loss: 40385.215, Baseline: 100.510\n",
            " reward: 101.56619262695312 \n",
            " reward: 113.21635437011719 \n",
            " reward: 102.9940185546875 \n",
            " reward: 112.9616470336914 \n",
            " reward: 112.61947631835938 \n",
            " reward: 108.95061492919922 \n",
            " reward: 115.31959533691406 \n",
            " reward: 107.2696762084961 \n",
            " reward: 101.86776733398438 \n",
            " reward: 102.29410552978516 \n",
            "Epoch 20, Loss: 29161.465, Baseline: 92.945\n",
            " reward: 117.39889526367188 \n",
            " reward: 108.71004486083984 \n",
            " reward: 106.5633316040039 \n",
            " reward: 103.29369354248047 \n",
            " reward: 105.25814819335938 \n",
            " reward: 110.4068603515625 \n",
            " reward: 106.9803695678711 \n",
            " reward: 111.49009704589844 \n",
            " reward: 103.20574188232422 \n",
            " reward: 108.43217468261719 \n",
            "Epoch 30, Loss: 23829.787, Baseline: 93.760\n",
            " reward: 105.59465026855469 \n",
            " reward: 111.42231750488281 \n",
            " reward: 116.53335571289062 \n",
            " reward: 116.40808868408203 \n",
            " reward: 112.52713012695312 \n",
            " reward: 104.72801208496094 \n",
            " reward: 106.78861999511719 \n",
            " reward: 98.77676391601562 \n",
            " reward: 104.13609313964844 \n",
            " reward: 113.16859436035156 \n",
            "Epoch 40, Loss: 20007.668, Baseline: 102.303\n",
            " reward: 108.39507293701172 \n",
            " reward: 119.49803161621094 \n",
            " reward: 116.75862884521484 \n",
            " reward: 111.93875122070312 \n",
            " reward: 110.14693450927734 \n",
            " reward: 118.88325500488281 \n",
            " reward: 111.75343322753906 \n"
          ]
        }
      ]
    },
    {
      "cell_type": "code",
      "source": [
        "# eps = 1e-8\n",
        "# d_T_pie_s_episodes = [torch.ones(6,6),torch.ones(6,6), torch.ones(6,6)]\n",
        "# state_distribution = find_total_dist(d_T_pie_s_episodes)\n",
        "# print(state_distribution.shape)\n",
        "# entropy_or_reward = torch.stack([ -(d*torch.log(d+eps)).sum()\n",
        "#                                 for d in state_distribution ])\n",
        "# print(entropy_or_reward.shape)\n",
        "plt.plot(plt_loss)\n",
        "plt.show()"
      ],
      "metadata": {
        "id": "zoaRzmEl2aRT",
        "colab": {
          "base_uri": "https://localhost:8080/",
          "height": 430
        },
        "outputId": "016ec4f6-2adc-4806-f107-fc8a56fe7bd1"
      },
      "execution_count": 30,
      "outputs": [
        {
          "output_type": "display_data",
          "data": {
            "text/plain": [
              "<Figure size 640x480 with 1 Axes>"
            ],
            "image/png": "[encoded data removed]"
          },
          "metadata": {}
        }
      ]
    },
    {
      "cell_type": "code",
      "source": [
        "# trained policy\n",
        "obs = torch.zeros(6,6,2, dtype = torch.float32)\n",
        "obs[5][0][0] = 1 # agent is at the buttom left corner\n",
        "obs[5][0][1] = 1 # it already visited it one time\n",
        "obs = obs.unsqueeze(0)\n",
        "obs = obs.permute(0,3,1,2)\n",
        "for t in range(36):\n",
        "  dist = model(obs)\n",
        "  action = dist.sample()\n",
        "  next_obs = env_step(obs,action)\n",
        "  obs = next_obs\n",
        "  print(action.item())"
      ],
      "metadata": {
        "colab": {
          "base_uri": "https://localhost:8080/"
        },
        "id": "qUtWVaPnYpAq",
        "outputId": "e55c6794-5ee8-4ee5-e5fd-eae558d8490d"
      },
      "execution_count": 31,
      "outputs": [
        {
          "output_type": "stream",
          "name": "stdout",
          "text": [
            "3\n",
            "3\n",
            "2\n",
            "3\n",
            "2\n",
            "0\n",
            "3\n",
            "3\n",
            "3\n",
            "3\n",
            "3\n",
            "3\n",
            "0\n",
            "3\n",
            "3\n",
            "3\n",
            "3\n",
            "3\n",
            "3\n",
            "3\n",
            "3\n",
            "3\n",
            "3\n",
            "3\n",
            "3\n",
            "3\n",
            "3\n",
            "3\n",
            "3\n",
            "3\n",
            "3\n",
            "3\n",
            "3\n",
            "3\n",
            "3\n",
            "3\n"
          ]
        }
      ]
    },
    {
      "cell_type": "code",
      "source": [
        "obs.shape\n",
        "obs = obs.squeeze(0)\n",
        "obs.shape\n",
        "obs = obs.permute(1,2,0)\n",
        "print(obs.shape)\n"
      ],
      "metadata": {
        "colab": {
          "base_uri": "https://localhost:8080/"
        },
        "id": "i9aPx0qInLKT",
        "outputId": "ae626dfc-c767-4b39-bc84-ac53fd83fd7a"
      },
      "execution_count": 32,
      "outputs": [
        {
          "output_type": "stream",
          "name": "stdout",
          "text": [
            "torch.Size([6, 6, 2])\n"
          ]
        }
      ]
    },
    {
      "cell_type": "code",
      "source": [
        "obs"
      ],
      "metadata": {
        "id": "JTzIPQVFZfmJ",
        "colab": {
          "base_uri": "https://localhost:8080/"
        },
        "outputId": "1a6e016f-f4ad-489f-c1bb-8fcad1a4efaf"
      },
      "execution_count": 33,
      "outputs": [
        {
          "output_type": "execute_result",
          "data": {
            "text/plain": [
              "tensor([[[ 0.,  0.],\n",
              "         [ 0.,  0.],\n",
              "         [ 0.,  0.],\n",
              "         [ 0.,  0.],\n",
              "         [ 0.,  0.],\n",
              "         [ 0.,  0.]],\n",
              "\n",
              "        [[ 0.,  0.],\n",
              "         [ 0.,  0.],\n",
              "         [ 0.,  0.],\n",
              "         [ 0.,  0.],\n",
              "         [ 0.,  0.],\n",
              "         [ 0.,  0.]],\n",
              "\n",
              "        [[ 0.,  0.],\n",
              "         [ 0.,  0.],\n",
              "         [ 0.,  0.],\n",
              "         [ 0.,  0.],\n",
              "         [ 0.,  0.],\n",
              "         [ 0.,  0.]],\n",
              "\n",
              "        [[ 0.,  0.],\n",
              "         [ 0.,  0.],\n",
              "         [ 0.,  0.],\n",
              "         [ 0.,  0.],\n",
              "         [ 0.,  0.],\n",
              "         [ 1., 24.]],\n",
              "\n",
              "        [[ 0.,  0.],\n",
              "         [ 0.,  1.],\n",
              "         [ 0.,  1.],\n",
              "         [ 0.,  1.],\n",
              "         [ 0.,  1.],\n",
              "         [ 0.,  3.]],\n",
              "\n",
              "        [[ 0.,  1.],\n",
              "         [ 0.,  3.],\n",
              "         [ 0.,  2.],\n",
              "         [ 0.,  0.],\n",
              "         [ 0.,  0.],\n",
              "         [ 0.,  0.]]])"
            ]
          },
          "metadata": {},
          "execution_count": 33
        }
      ]
    },
    {
      "cell_type": "code",
      "source": [
        "r, c = torch.where(next_obs[0, 0] == 1)\n",
        "visit_count = next_obs[0, 1, r, c]\n",
        "print(visit_count)\n",
        "reward = 10 / (visit_count**5)\n",
        "print(reward)"
      ],
      "metadata": {
        "id": "ugQbTkxcoh-M",
        "colab": {
          "base_uri": "https://localhost:8080/"
        },
        "outputId": "8c417e42-8131-4ee3-d319-0aa78cf9b289"
      },
      "execution_count": 28,
      "outputs": [
        {
          "output_type": "stream",
          "name": "stdout",
          "text": [
            "tensor([32.])\n",
            "tensor([2.9802e-07])\n"
          ]
        }
      ]
    },
    {
      "cell_type": "code",
      "source": [],
      "metadata": {
        "id": "qTQ28gWCoiS2"
      },
      "execution_count": null,
      "outputs": []
    }
  ]
}